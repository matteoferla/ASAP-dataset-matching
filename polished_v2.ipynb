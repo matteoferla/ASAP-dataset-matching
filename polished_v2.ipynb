{
 "cells": [
  {
   "cell_type": "markdown",
   "id": "36f870e0-00f9-484e-9073-e6be2b1c2f22",
   "metadata": {},
   "source": [
    "# About\n",
    "\n",
    "This is a copy of the other for analsysis puposed and is a partial rewrite.\n",
    "It does not fix the XChem codes within hits (`ref_mols` in Fragalysis specs)\n",
    "\n",
    "In previous version FPs were compared. This version to make things easier on the exports ichi keys are.\n",
    "These are stripped of chirality to make life easier."
   ]
  },
  {
   "cell_type": "markdown",
   "id": "646a2f9e-ac8a-45f4-ad0e-47472f457f99",
   "metadata": {},
   "source": [
    "# Global variables"
   ]
  },
  {
   "cell_type": "code",
   "execution_count": null,
   "id": "2db99787-55f6-46c6-858a-ac7ebf4bdd8a",
   "metadata": {},
   "outputs": [],
   "source": [
    "asap_project_id = 'ASAP-EVD68-3CLPRO'\n",
    "xchem_project_id = 'D68EV3CPROA'\n",
    "metadata_filename = 'D68EV3CPROA_metadata.csv'\n",
    "\n",
    "# column names as will be used for upload\n",
    "\n",
    "labels = {'SMILES': 'SMILES',\n",
    "         'XChem code': f'fragment_XChem-code',\n",
    "         'method': 'fragment_method-name',\n",
    "         'notes': 'fragment_notes',\n",
    "         'keywords': 'fragment_method-keywords',\n",
    "         'date': f'fragment_method-date',\n",
    "         'institution': f'fragment_submitter_institution',\n",
    "         'name': f'fragment_submitter_name',\n",
    "         'email': f'fragment_submitter_email',\n",
    "         'ref XChem': f'fragment_reference_XChem',\n",
    "         'ref vcid': f'fragment_reference_vcid',\n",
    "         'ref SMILES': f'fragment_reference_SMILES',\n",
    "          'rationale': 'fagment_rationale',\n",
    "         }"
   ]
  },
  {
   "cell_type": "markdown",
   "id": "26a78356-2f5f-4d40-b0eb-97cb31d59e1c",
   "metadata": {},
   "source": [
    "# Import D68EV3CPROA_metadata.csv"
   ]
  },
  {
   "cell_type": "code",
   "execution_count": 125,
   "id": "73a93dd2-59ce-47c8-9482-876085efaa85",
   "metadata": {},
   "outputs": [],
   "source": [
    "import pandas as pd\n",
    "import pandera.typing as pdt\n",
    "from pathlib import Path\n",
    "import functools\n",
    "from rdkit import Chem\n",
    "from rdkit.Chem import AllChem, PandasTools, DataStructs\n",
    "from typing import List\n",
    "from rdkit.Chem.SaltRemover import SaltRemover\n",
    "from rdkit import rdBase\n",
    "\n",
    "\n",
    "def to_bad_inchi(smiles):\n",
    "    \"\"\"\n",
    "    Inchi with no chirality (bad)\n",
    "    \"\"\"\n",
    "    mol: Chem.Mol = Chem.MolFromSmiles(smiles)\n",
    "    if mol is None:\n",
    "        return ''\n",
    "    mol = SaltRemover().StripMol(mol)\n",
    "    Chem.RemoveStereochemistry(mol)\n",
    "    mol = AllChem.RemoveAllHs(mol)\n",
    "    return Chem.MolToInchi(mol)\n",
    "    \n",
    "    \n",
    "from typing import Set, Sequence\n",
    "import pandas as pd\n",
    "\n",
    "def dodgy_type_fix(df: pd.DataFrame, protected: Sequence[str]=()) -> pd.DataFrame:\n",
    "    \"\"\"\n",
    "    Fix the types assuming nans happened.\n",
    "    \"\"\"\n",
    "    df = df.copy()\n",
    "    for k in df.columns:\n",
    "        types: Set[type] = set(df[k].apply(type).to_list())\n",
    "        if k in protected:\n",
    "            pass # protected. Skip!\n",
    "        elif len(types) == 1:\n",
    "            df[k] = df[k].astype(types.pop())\n",
    "        elif float in types and str in types:\n",
    "            df[k] = df[k].fillna('').astype(str)\n",
    "        elif float in types and int in types:\n",
    "            df[k] = df[k].fillna(-1).astype(int)\n",
    "        elif float in types:\n",
    "            other: type = (types - {float}).pop()\n",
    "            df[k] = df[k].apply(lambda v: v if not isinstance(v, float) else other()).astype(other)\n",
    "        else:\n",
    "            print(f'Not altered {k} ({types}). no ideal what is wrong.')\n",
    "            pass\n",
    "    return df.copy()\n",
    "\n",
    "\n",
    "# ------------------------------------------------------------\n",
    "\n",
    "metadata = pd.read_csv('D68EV3CPROA_metadata.csv')\n",
    "metadata['name'] = metadata.RealCrystalName.str.replace(f'{xchem_project_id}-', '')\n",
    "# for some reason the alt ids went from Enamine to ASAP Reg IDs\n",
    "originals: List[str] = metadata.loc[~metadata.alternate_name.str.contains('ASAP')].RealCrystalName.to_list()\n",
    "\n",
    "with rdBase.BlockLogs() as blocker:\n",
    "    metadata['simple_inchi'] = metadata.new_smiles.apply(to_bad_inchi)"
   ]
  },
  {
   "cell_type": "markdown",
   "id": "6643acd3-d7b2-4a99-ae4d-f6a4116e1943",
   "metadata": {},
   "source": [
    "# Library"
   ]
  },
  {
   "cell_type": "code",
   "execution_count": 130,
   "id": "c43d3fc3-8d48-4686-969b-e8db33322bbc",
   "metadata": {},
   "outputs": [],
   "source": [
    "import pandas as pd\n",
    "\n",
    "libraries = pd.read_csv('https://github.com/matteoferla/Fragment-hit-follow-up-chemistry/raw/main/combined-XChem-libraries.csv', index_col=0)\n",
    "reduced_libraries  =  libraries.drop_duplicates(['SMILES', 'library']) \\\n",
    "                     .groupby('SMILES').agg({'library': ','.join, \n",
    "                                             'Id':set }) \\\n",
    "                     .reset_index()\n",
    "reduced_libraries['Id'] = reduced_libraries['Id'].apply(','.join)\n",
    "\n",
    "with rdBase.BlockLogs() as blocker:\n",
    "    reduced_libraries['simple_inchi'] = reduced_libraries.SMILES.apply(to_bad_inchi)"
   ]
  },
  {
   "cell_type": "markdown",
   "id": "0bd4ee66-f67a-4639-a276-089bbfbd9ea2",
   "metadata": {},
   "source": [
    "## ASAP data"
   ]
  },
  {
   "cell_type": "code",
   "execution_count": 132,
   "id": "45f984bf-63ed-4dc2-b0dc-43646b0a85de",
   "metadata": {},
   "outputs": [
    {
     "name": "stderr",
     "output_type": "stream",
     "text": [
      "/var/folders/70/28pvwk5s63q9xd4mwxj039hm0000gp/T/ipykernel_92014/456933751.py:1: DtypeWarning: Columns (17,18,20,21,28,32,33,35,41,42,43,44,45,46,47,48,49,53,54,55,56,58,59,60,64,66,67,69,70,73,92,93,95,98,102,103,108,111,112,125,127,128,131,132,133,134,135,136,137,138,139,140,141,142,143,144,145,146,147,148,154,155,156,158,159,160,161,162,163,164,167,168,175,176,177,178,180,181,182,183,184,187,188,189,190,197,198,199,200,203,204,205,206,207,208,209,214,215,216,217,222,231,232,233,234,235,236,237,239,240,241,242,243,245,246,247,248,249,250,255,256,260,261,262,263,264,267,271,274,276,277,279,282,283,284,285,287,292,297,300,302,303,306,307,310,311,314,315,322,326,327,328,329,330,333,339,340,343,344,345) have mixed types. Specify dtype option on import or set low_memory=False.\n",
      "  asapt: pd.DataFrame = dodgy_type_fix( pd.read_csv('project-ASAPPSOTNS.csv') )\n"
     ]
    }
   ],
   "source": [
    "asapt: pd.DataFrame = dodgy_type_fix( pd.read_csv('project-ASAPPSOTNS.csv') )\n",
    "\n",
    "with rdBase.BlockLogs() as blocker:\n",
    "    asapt['simple_inchi']: pdt.Series[str] = asapt.original_query.apply(to_inchi)\n",
    "    \n",
    "asapt['is_XChem'] = asapt.designer_institution == 'XChem'\n",
    "asapt = asapt.sort_values('is_XChem', ascending=False).reset_index(drop=True)"
   ]
  },
  {
   "cell_type": "markdown",
   "id": "eb6d299b-66a3-411a-89f1-09d057dc3135",
   "metadata": {},
   "source": [
    "# CSets\n",
    "From Fragalysis"
   ]
  },
  {
   "cell_type": "code",
   "execution_count": 163,
   "id": "3d71a2fe-017f-4b8c-b373-4a4ffa0969ed",
   "metadata": {},
   "outputs": [
    {
     "name": "stdout",
     "output_type": "stream",
     "text": [
      "HTTPError 404 Client Error: Not Found for url: https://fragalysis.diamond.ac.uk/media/code/media/compound_sets/compound-set_fragnetv1_sujHlIc.sdf\n"
     ]
    }
   ],
   "source": [
    "from rdkit import Chem\n",
    "from pathlib import Path\n",
    "import requests\n",
    "import pandas as pd\n",
    "import operator, os\n",
    "\n",
    "\n",
    "def retrieve(sdf_url, folder=Path('media_compound-sets')):\n",
    "    if not sdf_url:\n",
    "        return ''\n",
    "    name = folder / Path(sdf_url).parts[-1]\n",
    "    if Path(name).exists():\n",
    "        return str(name)\n",
    "    try:\n",
    "        response: requests.Response = requests.get(sdf_url)\n",
    "        response.raise_for_status()\n",
    "        with open(name, 'w') as fh:\n",
    "            fh.write( response.text )\n",
    "        return str(name)\n",
    "    except requests.HTTPError as error:\n",
    "        print(error.__class__.__name__, str(error))\n",
    "        return ''\n",
    "\n",
    "csets = pd.DataFrame( requests.get('https://fragalysis.diamond.ac.uk/api/compound-sets/').json()['results'] )\n",
    "targets = pd.DataFrame( requests.get('https://fragalysis.diamond.ac.uk/api/targets/').json()['results'] )\n",
    "id2name = targets.set_index('id').title.to_dict()\n",
    "csets['target_name'] = csets.target.map(id2name)\n",
    "csets['sdf_name'] = csets.submitted_sdf.apply(lambda v:os.path.split(v)[-1] if v else '')\n",
    "filenames: pd.Series = csets.loc[csets.target_name == xchem_project_id].submitted_sdf.apply(retrieve)\n",
    "assert (filenames != '').any(), 'Fragalysis route is stil broken'"
   ]
  },
  {
   "cell_type": "markdown",
   "id": "f15df64b-a071-4e9c-94cf-d44ca20db776",
   "metadata": {},
   "source": [
    "# CSet from passed files\n",
    "\n",
    "Ref IDs not fixed in this version!"
   ]
  },
  {
   "cell_type": "code",
   "execution_count": 164,
   "id": "3abf39c0-481a-40e0-b481-11122466c8fc",
   "metadata": {},
   "outputs": [
    {
     "data": {
      "text/plain": [
       "14"
      ]
     },
     "execution_count": 164,
     "metadata": {},
     "output_type": "execute_result"
    }
   ],
   "source": [
    "len(filenames)"
   ]
  },
  {
   "cell_type": "code",
   "execution_count": 298,
   "id": "e359efa1-190b-4d0d-a5b7-303ae72ef909",
   "metadata": {},
   "outputs": [
    {
     "name": "stdout",
     "output_type": "stream",
     "text": [
      "media_compound-sets/compound-set_fragnetv2_named2.sdf\n",
      "media_compound-sets/compound-set_fragnetv3_corrected_Yg1WEd6.sdf\n",
      "media_compound-sets/rocs_EV-D68_3C_cfWeZxn.sdf\n",
      "media_compound-sets/compound-set_STRIFEx1083_kjmiwFa.sdf\n",
      "media_compound-sets/Teo-submissions_EV-D68_3C_LLQgF2R.sdf\n",
      "media_compound-sets/Arthor-sulfonamide_EV-D68_3C_SroVYeD.sdf\n",
      "media_compound-sets/Fragmenstein-Tris_C8PbTBl.sdf\n",
      "media_compound-sets/Fragmenstein-Tris_P1-ridge.sdf\n",
      "media_compound-sets/compound-set_fragNetMergingIt3_3yGitfX.sdf\n",
      "media_compound-sets/ROCS-S2_EV-D68_3C_xNia8MG.sdf\n",
      "media_compound-sets/LucyVost-STRIFEfollowups_ApSdXBM.sdf\n",
      "N VCs 1047\n"
     ]
    }
   ],
   "source": [
    "vcs = []\n",
    "header = Chem.Mol\n",
    "filename: str\n",
    "for filename in filenames.to_list():\n",
    "    if filename == '':\n",
    "        continue\n",
    "    name = filename.split('.')[0]\n",
    "    if os.path.getsize(filename) == 0:\n",
    "        print(f'Empty {filename}')\n",
    "        continue\n",
    "    print(filename)\n",
    "    with Chem.SDMolSupplier(filename) as sdfh:\n",
    "        for vc in sdfh:\n",
    "            if vc.GetProp('_Name') == 'ver_1.2':\n",
    "                header = vc\n",
    "                continue\n",
    "            vc.SetProp('dataset_filename', name)\n",
    "            vc.SetProp(labels['method'], header.GetProp('method'))\n",
    "            vc.SetProp(labels['name'], header.GetProp('submitter_name'))\n",
    "            vc.SetProp(labels['email'], header.GetProp('submitter_email'))\n",
    "            vc.SetProp(labels['institution'], header.GetProp('submitter_institution'))\n",
    "            vc.SetProp(labels['date'], header.GetProp('generation_date'))\n",
    "            vcs.append(vc)\n",
    "        del header\n",
    "\n",
    "print(f'N VCs {len(vcs)}')"
   ]
  },
  {
   "cell_type": "markdown",
   "id": "92e84014-f6c2-43bd-9a10-bae08096f288",
   "metadata": {},
   "source": [
    "# Convert"
   ]
  },
  {
   "cell_type": "code",
   "execution_count": 299,
   "id": "b4c11cd1-a1f7-4649-bacf-30cb26ebfe1a",
   "metadata": {},
   "outputs": [],
   "source": [
    "from typing import Dict\n",
    "import yaml\n",
    "\n",
    "fragalysis2postera_yaml = \\\n",
    "'''\n",
    "ref_url: design_submission_source_link\n",
    "submitter_email: designer_email\n",
    "# made up\n",
    "submitter_name: designer_name\n",
    "submitter_institution: designer_institution\n",
    "generation_date: design_date\n",
    "method: design_notes\n",
    "# not matched to Fragalysis header\n",
    "# related_molecules\n",
    "'''\n",
    "\n",
    "# made up: for each hit\n",
    "# design_reference_hits: ref_mols\n",
    "# design_rationale Computational follow-ups as part of Project 2.\n",
    "\n",
    "fragalysis2postera: Dict[str, str] = yaml.load(fragalysis2postera_yaml, Loader=yaml.FullLoader)"
   ]
  },
  {
   "cell_type": "code",
   "execution_count": 302,
   "id": "bafec072-7e55-4f49-804d-a9902a128260",
   "metadata": {},
   "outputs": [],
   "source": [
    "from rdkit import Chem\n",
    "from rdkit.Chem import AllChem\n",
    "    \n",
    "import re\n",
    "for vc in vcs:\n",
    "    if vc.HasProp('ref_mols'):\n",
    "        ref_mols = ','.join(re.findall(r'(x\\w+_\\w+)',  vc.GetProp('ref_mols') ))\n",
    "    else:\n",
    "        ref_mols = ''\n",
    "    vc.SetProp('ref_mols', ref_mols)\n",
    "        \n",
    "#header_info = header.GetPropsAsDict()\n",
    "\n",
    "def get_catalogue(name):\n",
    "    if 'Z' in name:\n",
    "        return name.split('-')[0]\n",
    "    elif 'PV' in name:\n",
    "        return 'PV-' + name.split('-')[1]\n",
    "    elif 'EN300' in name:\n",
    "        return 'EN300-' + name.split('-')[1]\n",
    "    else:\n",
    "        return ''\n",
    "        #raise ValueError\n",
    "\n",
    "\n",
    "submissions = pd.DataFrame([vc.GetPropsAsDict() for vc in vcs])\n",
    "\n",
    "# for col_fragalysis, col_post in fragalysis2postera.items():\n",
    "#     submissions[col_post] = header.GetProp(col_fragalysis)\n",
    "    \n",
    "with rdBase.BlockLogs() as blocker:\n",
    "    submissions['simple_inchi'] = submissions['original SMILES'].apply(to_bad_inchi)"
   ]
  },
  {
   "cell_type": "markdown",
   "id": "53578736-ab99-48c8-9fcf-d4512a66e982",
   "metadata": {},
   "source": [
    "# Combine"
   ]
  },
  {
   "cell_type": "code",
   "execution_count": 314,
   "id": "ba280c42-c6a5-4dd1-ab29-20b22a0b975b",
   "metadata": {},
   "outputs": [],
   "source": [
    "m1 = pd.merge(metadata, submissions, on='simple_inchi', how='left')\n",
    "m2 = pd.merge(m1, reduced_libraries, on='simple_inchi', how='left')\n",
    "merged = pd.merge(m2, asapt, on='simple_inchi', how='left')\n",
    "del m1\n",
    "del m2"
   ]
  },
  {
   "cell_type": "code",
   "execution_count": 315,
   "id": "b95a5da2-f32e-4d7d-9c48-558f1524aa99",
   "metadata": {},
   "outputs": [
    {
     "data": {
      "text/plain": [
       "design_id_postera\n",
       "ASAP-DESIGN-995    189\n",
       "ASAP-DESIGN-996    189\n",
       "ASAP-DESIGN-987    177\n",
       "ASAP-DESIGN-663     20\n",
       "ASAP-DESIGN-990     14\n",
       "ASAP-DESIGN-673      7\n",
       "ASAP-DESIGN-552      5\n",
       "ASAP-DESIGN-527      4\n",
       "ASAP-DESIGN-610      4\n",
       "ASAP-DESIGN-785      3\n",
       "ASAP-DESIGN-780      3\n",
       "ASAP-DESIGN-666      2\n",
       "ASAP-DESIGN-528      1\n",
       "ASAP-DESIGN-579      1\n",
       "ASAP-DESIGN-619      1\n",
       "ASAP-DESIGN-508      1\n",
       "ASAP-DESIGN-642      1\n",
       "ASAP-DESIGN-634      1\n",
       "ASAP-DESIGN-526      1\n",
       "ASAP-DESIGN-709      1\n",
       "Name: count, dtype: int64"
      ]
     },
     "execution_count": 315,
     "metadata": {},
     "output_type": "execute_result"
    }
   ],
   "source": [
    "merged.design_id_postera.value_counts()"
   ]
  },
  {
   "cell_type": "code",
   "execution_count": 331,
   "id": "4f62aba1-eba0-436c-a0b5-0e70c4161f79",
   "metadata": {},
   "outputs": [],
   "source": [
    "def classify(group):\n",
    "    if isinstance(group, float):\n",
    "        return 'Unknown'\n",
    "    if group.strip() in ('Successful crystallised hits soaks Diamond DLS XChem initial fragment library', \n",
    "                         'Crystallised DLS XChem fragment screening soaks hits',\n",
    "                         'Fragment screening libraries available at DLS XChem'):\n",
    "        return 'library'\n",
    "    if group.strip() in ('Computational follow-ups as part of Project 2.',\n",
    "                                          'Wave 2 designs: P2: computational follow-up: available in catalog',\n",
    "                                         \"2nd wave of computational follow-up using \\nFragmenstein => https://github.com/matteoferla/Fragmenstein\\nSteph's graph enumeration approach => https://pubmed.ncbi.nlm.nih.gov/37229647/ or https://www.biorxiv.org/content/10.1101/2022.12.15.520559v1\\nLucy's STRIFE\\nSanity checked by Ed Griffen and Tryfon\"):\n",
    "        return 'OPIG'\n",
    "    return 'Postera'\n",
    "\n",
    "merged['group'] = merged.design_rationale.apply(classify)"
   ]
  },
  {
   "cell_type": "code",
   "execution_count": 317,
   "id": "64ea8ce1-c2b9-412f-92d5-75eb915a6696",
   "metadata": {},
   "outputs": [],
   "source": [
    "#'fragment_XChem_code', 'fragment_submitter_name','fragment_method_name', "
   ]
  },
  {
   "cell_type": "code",
   "execution_count": 332,
   "id": "17284e29-ebce-4aec-a8b4-5812b1196625",
   "metadata": {},
   "outputs": [
    {
     "data": {
      "text/html": [
       "<div>\n",
       "<style scoped>\n",
       "    .dataframe tbody tr th:only-of-type {\n",
       "        vertical-align: middle;\n",
       "    }\n",
       "\n",
       "    .dataframe tbody tr th {\n",
       "        vertical-align: top;\n",
       "    }\n",
       "\n",
       "    .dataframe thead th {\n",
       "        text-align: right;\n",
       "    }\n",
       "</style>\n",
       "<table border=\"1\" class=\"dataframe\">\n",
       "  <thead>\n",
       "    <tr style=\"text-align: right;\">\n",
       "      <th></th>\n",
       "      <th>name</th>\n",
       "      <th>design_rationale</th>\n",
       "      <th>fragment_submitter_name_x</th>\n",
       "      <th>fragment_method-name</th>\n",
       "    </tr>\n",
       "  </thead>\n",
       "  <tbody>\n",
       "    <tr>\n",
       "      <th>573</th>\n",
       "      <td>x2135</td>\n",
       "      <td>Computational follow-ups as part of Project 2.</td>\n",
       "      <td>Matteo Ferla</td>\n",
       "      <td>ROCS &amp; PyRosetta-filtering</td>\n",
       "    </tr>\n",
       "    <tr>\n",
       "      <th>582</th>\n",
       "      <td>x2148</td>\n",
       "      <td>Computational follow-ups as part of Project 2.</td>\n",
       "      <td>Matteo Ferla</td>\n",
       "      <td>Manual-Submission</td>\n",
       "    </tr>\n",
       "    <tr>\n",
       "      <th>585</th>\n",
       "      <td>x2149</td>\n",
       "      <td>Computational follow-ups as part of Project 2.</td>\n",
       "      <td>Matteo Ferla</td>\n",
       "      <td>Manual-Submission</td>\n",
       "    </tr>\n",
       "    <tr>\n",
       "      <th>598</th>\n",
       "      <td>x2495</td>\n",
       "      <td>Computational follow-ups as part of Project 2.</td>\n",
       "      <td>Matteo Ferla</td>\n",
       "      <td>Manual-Submission</td>\n",
       "    </tr>\n",
       "  </tbody>\n",
       "</table>\n",
       "</div>"
      ],
      "text/plain": [
       "      name                                design_rationale  \\\n",
       "573  x2135  Computational follow-ups as part of Project 2.   \n",
       "582  x2148  Computational follow-ups as part of Project 2.   \n",
       "585  x2149  Computational follow-ups as part of Project 2.   \n",
       "598  x2495  Computational follow-ups as part of Project 2.   \n",
       "\n",
       "    fragment_submitter_name_x        fragment_method-name  \n",
       "573              Matteo Ferla  ROCS & PyRosetta-filtering  \n",
       "582              Matteo Ferla           Manual-Submission  \n",
       "585              Matteo Ferla           Manual-Submission  \n",
       "598              Matteo Ferla           Manual-Submission  "
      ]
     },
     "execution_count": 332,
     "metadata": {},
     "output_type": "execute_result"
    }
   ],
   "source": [
    "merged.loc[merged.group == 'OPIG']\\\n",
    "        [['name', 'design_rationale', 'fragment_submitter_name_x', 'fragment_method-name']].drop_duplicates('name')"
   ]
  },
  {
   "cell_type": "code",
   "execution_count": 337,
   "id": "de4986d1-7180-4c24-a01a-cf4cea888223",
   "metadata": {},
   "outputs": [
    {
     "data": {
      "application/vnd.plotly.v1+json": {
       "config": {
        "plotlyServerURL": "https://plot.ly"
       },
       "data": [
        {
         "domain": {
          "x": [
           0,
           1
          ],
          "y": [
           0,
           1
          ]
         },
         "hovertemplate": "group=%{label}<extra></extra>",
         "labels": [
          "library",
          "library",
          "library",
          "library",
          "library",
          "library",
          "library",
          "library",
          "library",
          "library",
          "library",
          "library",
          "library",
          "library",
          "library",
          "library",
          "library",
          "library",
          "library",
          "library",
          "library",
          "library",
          "library",
          "library",
          "library",
          "library",
          "library",
          "library",
          "library",
          "library",
          "library",
          "library",
          "library",
          "library",
          "library",
          "library",
          "library",
          "library",
          "library",
          "library",
          "library",
          "library",
          "library",
          "library",
          "library",
          "library",
          "library",
          "library",
          "library",
          "library",
          "library",
          "library",
          "library",
          "library",
          "library",
          "library",
          "library",
          "library",
          "library",
          "library",
          "library",
          "library",
          "library",
          "library",
          "library",
          "library",
          "library",
          "library",
          "library",
          "library",
          "library",
          "library",
          "library",
          "library",
          "library",
          "library",
          "library",
          "library",
          "library",
          "library",
          "library",
          "library",
          "library",
          "library",
          "library",
          "library",
          "library",
          "library",
          "library",
          "library",
          "library",
          "library",
          "library",
          "library",
          "library",
          "library",
          "library",
          "Postera",
          "Postera",
          "library",
          "library",
          "Postera",
          "Postera",
          "Postera",
          "library",
          "library",
          "library",
          "library",
          "library",
          "library",
          "library",
          "library",
          "library",
          "library",
          "library",
          "library",
          "library",
          "library",
          "library",
          "library",
          "library",
          "library",
          "library",
          "library",
          "library",
          "library",
          "library",
          "library",
          "library",
          "library",
          "library",
          "library",
          "library",
          "library",
          "library",
          "library",
          "library",
          "Postera",
          "Postera",
          "Postera",
          "Postera",
          "OPIG",
          "OPIG",
          "Postera",
          "Postera",
          "Postera",
          "Postera",
          "Postera",
          "Postera",
          "Postera",
          "Postera",
          "Postera",
          "Postera",
          "OPIG",
          "Postera",
          "Postera",
          "Postera",
          "Postera",
          "Postera",
          "Postera",
          "Postera",
          "Postera",
          "Postera",
          "Postera",
          "Postera",
          "Postera",
          "Postera",
          "Postera",
          "Postera",
          "Postera",
          "Postera",
          "Postera",
          "Postera",
          "Postera",
          "Postera",
          "Postera",
          "Postera",
          "Postera",
          "Postera",
          "Postera",
          "Unknown"
         ],
         "legendgroup": "",
         "name": "",
         "showlegend": true,
         "type": "pie"
        }
       ],
       "layout": {
        "autosize": true,
        "legend": {
         "tracegroupgap": 0
        },
        "template": {
         "data": {
          "bar": [
           {
            "error_x": {
             "color": "#2a3f5f"
            },
            "error_y": {
             "color": "#2a3f5f"
            },
            "marker": {
             "line": {
              "color": "#E5ECF6",
              "width": 0.5
             },
             "pattern": {
              "fillmode": "overlay",
              "size": 10,
              "solidity": 0.2
             }
            },
            "type": "bar"
           }
          ],
          "barpolar": [
           {
            "marker": {
             "line": {
              "color": "#E5ECF6",
              "width": 0.5
             },
             "pattern": {
              "fillmode": "overlay",
              "size": 10,
              "solidity": 0.2
             }
            },
            "type": "barpolar"
           }
          ],
          "carpet": [
           {
            "aaxis": {
             "endlinecolor": "#2a3f5f",
             "gridcolor": "white",
             "linecolor": "white",
             "minorgridcolor": "white",
             "startlinecolor": "#2a3f5f"
            },
            "baxis": {
             "endlinecolor": "#2a3f5f",
             "gridcolor": "white",
             "linecolor": "white",
             "minorgridcolor": "white",
             "startlinecolor": "#2a3f5f"
            },
            "type": "carpet"
           }
          ],
          "choropleth": [
           {
            "colorbar": {
             "outlinewidth": 0,
             "ticks": ""
            },
            "type": "choropleth"
           }
          ],
          "contour": [
           {
            "colorbar": {
             "outlinewidth": 0,
             "ticks": ""
            },
            "colorscale": [
             [
              0,
              "#0d0887"
             ],
             [
              0.1111111111111111,
              "#46039f"
             ],
             [
              0.2222222222222222,
              "#7201a8"
             ],
             [
              0.3333333333333333,
              "#9c179e"
             ],
             [
              0.4444444444444444,
              "#bd3786"
             ],
             [
              0.5555555555555556,
              "#d8576b"
             ],
             [
              0.6666666666666666,
              "#ed7953"
             ],
             [
              0.7777777777777778,
              "#fb9f3a"
             ],
             [
              0.8888888888888888,
              "#fdca26"
             ],
             [
              1,
              "#f0f921"
             ]
            ],
            "type": "contour"
           }
          ],
          "contourcarpet": [
           {
            "colorbar": {
             "outlinewidth": 0,
             "ticks": ""
            },
            "type": "contourcarpet"
           }
          ],
          "heatmap": [
           {
            "colorbar": {
             "outlinewidth": 0,
             "ticks": ""
            },
            "colorscale": [
             [
              0,
              "#0d0887"
             ],
             [
              0.1111111111111111,
              "#46039f"
             ],
             [
              0.2222222222222222,
              "#7201a8"
             ],
             [
              0.3333333333333333,
              "#9c179e"
             ],
             [
              0.4444444444444444,
              "#bd3786"
             ],
             [
              0.5555555555555556,
              "#d8576b"
             ],
             [
              0.6666666666666666,
              "#ed7953"
             ],
             [
              0.7777777777777778,
              "#fb9f3a"
             ],
             [
              0.8888888888888888,
              "#fdca26"
             ],
             [
              1,
              "#f0f921"
             ]
            ],
            "type": "heatmap"
           }
          ],
          "heatmapgl": [
           {
            "colorbar": {
             "outlinewidth": 0,
             "ticks": ""
            },
            "colorscale": [
             [
              0,
              "#0d0887"
             ],
             [
              0.1111111111111111,
              "#46039f"
             ],
             [
              0.2222222222222222,
              "#7201a8"
             ],
             [
              0.3333333333333333,
              "#9c179e"
             ],
             [
              0.4444444444444444,
              "#bd3786"
             ],
             [
              0.5555555555555556,
              "#d8576b"
             ],
             [
              0.6666666666666666,
              "#ed7953"
             ],
             [
              0.7777777777777778,
              "#fb9f3a"
             ],
             [
              0.8888888888888888,
              "#fdca26"
             ],
             [
              1,
              "#f0f921"
             ]
            ],
            "type": "heatmapgl"
           }
          ],
          "histogram": [
           {
            "marker": {
             "pattern": {
              "fillmode": "overlay",
              "size": 10,
              "solidity": 0.2
             }
            },
            "type": "histogram"
           }
          ],
          "histogram2d": [
           {
            "colorbar": {
             "outlinewidth": 0,
             "ticks": ""
            },
            "colorscale": [
             [
              0,
              "#0d0887"
             ],
             [
              0.1111111111111111,
              "#46039f"
             ],
             [
              0.2222222222222222,
              "#7201a8"
             ],
             [
              0.3333333333333333,
              "#9c179e"
             ],
             [
              0.4444444444444444,
              "#bd3786"
             ],
             [
              0.5555555555555556,
              "#d8576b"
             ],
             [
              0.6666666666666666,
              "#ed7953"
             ],
             [
              0.7777777777777778,
              "#fb9f3a"
             ],
             [
              0.8888888888888888,
              "#fdca26"
             ],
             [
              1,
              "#f0f921"
             ]
            ],
            "type": "histogram2d"
           }
          ],
          "histogram2dcontour": [
           {
            "colorbar": {
             "outlinewidth": 0,
             "ticks": ""
            },
            "colorscale": [
             [
              0,
              "#0d0887"
             ],
             [
              0.1111111111111111,
              "#46039f"
             ],
             [
              0.2222222222222222,
              "#7201a8"
             ],
             [
              0.3333333333333333,
              "#9c179e"
             ],
             [
              0.4444444444444444,
              "#bd3786"
             ],
             [
              0.5555555555555556,
              "#d8576b"
             ],
             [
              0.6666666666666666,
              "#ed7953"
             ],
             [
              0.7777777777777778,
              "#fb9f3a"
             ],
             [
              0.8888888888888888,
              "#fdca26"
             ],
             [
              1,
              "#f0f921"
             ]
            ],
            "type": "histogram2dcontour"
           }
          ],
          "mesh3d": [
           {
            "colorbar": {
             "outlinewidth": 0,
             "ticks": ""
            },
            "type": "mesh3d"
           }
          ],
          "parcoords": [
           {
            "line": {
             "colorbar": {
              "outlinewidth": 0,
              "ticks": ""
             }
            },
            "type": "parcoords"
           }
          ],
          "pie": [
           {
            "automargin": true,
            "type": "pie"
           }
          ],
          "scatter": [
           {
            "fillpattern": {
             "fillmode": "overlay",
             "size": 10,
             "solidity": 0.2
            },
            "type": "scatter"
           }
          ],
          "scatter3d": [
           {
            "line": {
             "colorbar": {
              "outlinewidth": 0,
              "ticks": ""
             }
            },
            "marker": {
             "colorbar": {
              "outlinewidth": 0,
              "ticks": ""
             }
            },
            "type": "scatter3d"
           }
          ],
          "scattercarpet": [
           {
            "marker": {
             "colorbar": {
              "outlinewidth": 0,
              "ticks": ""
             }
            },
            "type": "scattercarpet"
           }
          ],
          "scattergeo": [
           {
            "marker": {
             "colorbar": {
              "outlinewidth": 0,
              "ticks": ""
             }
            },
            "type": "scattergeo"
           }
          ],
          "scattergl": [
           {
            "marker": {
             "colorbar": {
              "outlinewidth": 0,
              "ticks": ""
             }
            },
            "type": "scattergl"
           }
          ],
          "scattermapbox": [
           {
            "marker": {
             "colorbar": {
              "outlinewidth": 0,
              "ticks": ""
             }
            },
            "type": "scattermapbox"
           }
          ],
          "scatterpolar": [
           {
            "marker": {
             "colorbar": {
              "outlinewidth": 0,
              "ticks": ""
             }
            },
            "type": "scatterpolar"
           }
          ],
          "scatterpolargl": [
           {
            "marker": {
             "colorbar": {
              "outlinewidth": 0,
              "ticks": ""
             }
            },
            "type": "scatterpolargl"
           }
          ],
          "scatterternary": [
           {
            "marker": {
             "colorbar": {
              "outlinewidth": 0,
              "ticks": ""
             }
            },
            "type": "scatterternary"
           }
          ],
          "surface": [
           {
            "colorbar": {
             "outlinewidth": 0,
             "ticks": ""
            },
            "colorscale": [
             [
              0,
              "#0d0887"
             ],
             [
              0.1111111111111111,
              "#46039f"
             ],
             [
              0.2222222222222222,
              "#7201a8"
             ],
             [
              0.3333333333333333,
              "#9c179e"
             ],
             [
              0.4444444444444444,
              "#bd3786"
             ],
             [
              0.5555555555555556,
              "#d8576b"
             ],
             [
              0.6666666666666666,
              "#ed7953"
             ],
             [
              0.7777777777777778,
              "#fb9f3a"
             ],
             [
              0.8888888888888888,
              "#fdca26"
             ],
             [
              1,
              "#f0f921"
             ]
            ],
            "type": "surface"
           }
          ],
          "table": [
           {
            "cells": {
             "fill": {
              "color": "#EBF0F8"
             },
             "line": {
              "color": "white"
             }
            },
            "header": {
             "fill": {
              "color": "#C8D4E3"
             },
             "line": {
              "color": "white"
             }
            },
            "type": "table"
           }
          ]
         },
         "layout": {
          "annotationdefaults": {
           "arrowcolor": "#2a3f5f",
           "arrowhead": 0,
           "arrowwidth": 1
          },
          "autotypenumbers": "strict",
          "coloraxis": {
           "colorbar": {
            "outlinewidth": 0,
            "ticks": ""
           }
          },
          "colorscale": {
           "diverging": [
            [
             0,
             "#8e0152"
            ],
            [
             0.1,
             "#c51b7d"
            ],
            [
             0.2,
             "#de77ae"
            ],
            [
             0.3,
             "#f1b6da"
            ],
            [
             0.4,
             "#fde0ef"
            ],
            [
             0.5,
             "#f7f7f7"
            ],
            [
             0.6,
             "#e6f5d0"
            ],
            [
             0.7,
             "#b8e186"
            ],
            [
             0.8,
             "#7fbc41"
            ],
            [
             0.9,
             "#4d9221"
            ],
            [
             1,
             "#276419"
            ]
           ],
           "sequential": [
            [
             0,
             "#0d0887"
            ],
            [
             0.1111111111111111,
             "#46039f"
            ],
            [
             0.2222222222222222,
             "#7201a8"
            ],
            [
             0.3333333333333333,
             "#9c179e"
            ],
            [
             0.4444444444444444,
             "#bd3786"
            ],
            [
             0.5555555555555556,
             "#d8576b"
            ],
            [
             0.6666666666666666,
             "#ed7953"
            ],
            [
             0.7777777777777778,
             "#fb9f3a"
            ],
            [
             0.8888888888888888,
             "#fdca26"
            ],
            [
             1,
             "#f0f921"
            ]
           ],
           "sequentialminus": [
            [
             0,
             "#0d0887"
            ],
            [
             0.1111111111111111,
             "#46039f"
            ],
            [
             0.2222222222222222,
             "#7201a8"
            ],
            [
             0.3333333333333333,
             "#9c179e"
            ],
            [
             0.4444444444444444,
             "#bd3786"
            ],
            [
             0.5555555555555556,
             "#d8576b"
            ],
            [
             0.6666666666666666,
             "#ed7953"
            ],
            [
             0.7777777777777778,
             "#fb9f3a"
            ],
            [
             0.8888888888888888,
             "#fdca26"
            ],
            [
             1,
             "#f0f921"
            ]
           ]
          },
          "colorway": [
           "#636efa",
           "#EF553B",
           "#00cc96",
           "#ab63fa",
           "#FFA15A",
           "#19d3f3",
           "#FF6692",
           "#B6E880",
           "#FF97FF",
           "#FECB52"
          ],
          "font": {
           "color": "#2a3f5f"
          },
          "geo": {
           "bgcolor": "white",
           "lakecolor": "white",
           "landcolor": "#E5ECF6",
           "showlakes": true,
           "showland": true,
           "subunitcolor": "white"
          },
          "hoverlabel": {
           "align": "left"
          },
          "hovermode": "closest",
          "mapbox": {
           "style": "light"
          },
          "paper_bgcolor": "white",
          "plot_bgcolor": "#E5ECF6",
          "polar": {
           "angularaxis": {
            "gridcolor": "white",
            "linecolor": "white",
            "ticks": ""
           },
           "bgcolor": "#E5ECF6",
           "radialaxis": {
            "gridcolor": "white",
            "linecolor": "white",
            "ticks": ""
           }
          },
          "scene": {
           "xaxis": {
            "backgroundcolor": "#E5ECF6",
            "gridcolor": "white",
            "gridwidth": 2,
            "linecolor": "white",
            "showbackground": true,
            "ticks": "",
            "zerolinecolor": "white"
           },
           "yaxis": {
            "backgroundcolor": "#E5ECF6",
            "gridcolor": "white",
            "gridwidth": 2,
            "linecolor": "white",
            "showbackground": true,
            "ticks": "",
            "zerolinecolor": "white"
           },
           "zaxis": {
            "backgroundcolor": "#E5ECF6",
            "gridcolor": "white",
            "gridwidth": 2,
            "linecolor": "white",
            "showbackground": true,
            "ticks": "",
            "zerolinecolor": "white"
           }
          },
          "shapedefaults": {
           "line": {
            "color": "#2a3f5f"
           }
          },
          "ternary": {
           "aaxis": {
            "gridcolor": "white",
            "linecolor": "white",
            "ticks": ""
           },
           "baxis": {
            "gridcolor": "white",
            "linecolor": "white",
            "ticks": ""
           },
           "bgcolor": "#E5ECF6",
           "caxis": {
            "gridcolor": "white",
            "linecolor": "white",
            "ticks": ""
           }
          },
          "title": {
           "x": 0.05
          },
          "xaxis": {
           "automargin": true,
           "gridcolor": "white",
           "linecolor": "white",
           "ticks": "",
           "title": {
            "standoff": 15
           },
           "zerolinecolor": "white",
           "zerolinewidth": 2
          },
          "yaxis": {
           "automargin": true,
           "gridcolor": "white",
           "linecolor": "white",
           "ticks": "",
           "title": {
            "standoff": 15
           },
           "zerolinecolor": "white",
           "zerolinewidth": 2
          }
         }
        },
        "title": {
         "text": "Bound Fragments"
        }
       }
      },
      "image/png": "[encoded data removed]",
      "text/html": [
       "<div>                            <div id=\"99dd83d5-c0c1-4b63-a44c-2f114dffeb40\" class=\"plotly-graph-div\" style=\"height:525px; width:100%;\"></div>            <script type=\"text/javascript\">                require([\"plotly\"], function(Plotly) {                    window.PLOTLYENV=window.PLOTLYENV || {};                                    if (document.getElementById(\"99dd83d5-c0c1-4b63-a44c-2f114dffeb40\")) {                    Plotly.newPlot(                        \"99dd83d5-c0c1-4b63-a44c-2f114dffeb40\",                        [{\"domain\":{\"x\":[0.0,1.0],\"y\":[0.0,1.0]},\"hovertemplate\":\"group=%{label}\\u003cextra\\u003e\\u003c\\u002fextra\\u003e\",\"labels\":[\"library\",\"library\",\"library\",\"library\",\"library\",\"library\",\"library\",\"library\",\"library\",\"library\",\"library\",\"library\",\"library\",\"library\",\"library\",\"library\",\"library\",\"library\",\"library\",\"library\",\"library\",\"library\",\"library\",\"library\",\"library\",\"library\",\"library\",\"library\",\"library\",\"library\",\"library\",\"library\",\"library\",\"library\",\"library\",\"library\",\"library\",\"library\",\"library\",\"library\",\"library\",\"library\",\"library\",\"library\",\"library\",\"library\",\"library\",\"library\",\"library\",\"library\",\"library\",\"library\",\"library\",\"library\",\"library\",\"library\",\"library\",\"library\",\"library\",\"library\",\"library\",\"library\",\"library\",\"library\",\"library\",\"library\",\"library\",\"library\",\"library\",\"library\",\"library\",\"library\",\"library\",\"library\",\"library\",\"library\",\"library\",\"library\",\"library\",\"library\",\"library\",\"library\",\"library\",\"library\",\"library\",\"library\",\"library\",\"library\",\"library\",\"library\",\"library\",\"library\",\"library\",\"library\",\"library\",\"library\",\"library\",\"Postera\",\"Postera\",\"library\",\"library\",\"Postera\",\"Postera\",\"Postera\",\"library\",\"library\",\"library\",\"library\",\"library\",\"library\",\"library\",\"library\",\"library\",\"library\",\"library\",\"library\",\"library\",\"library\",\"library\",\"library\",\"library\",\"library\",\"library\",\"library\",\"library\",\"library\",\"library\",\"library\",\"library\",\"library\",\"library\",\"library\",\"library\",\"library\",\"library\",\"library\",\"library\",\"Postera\",\"Postera\",\"Postera\",\"Postera\",\"OPIG\",\"OPIG\",\"Postera\",\"Postera\",\"Postera\",\"Postera\",\"Postera\",\"Postera\",\"Postera\",\"Postera\",\"Postera\",\"Postera\",\"OPIG\",\"Postera\",\"Postera\",\"Postera\",\"Postera\",\"Postera\",\"Postera\",\"Postera\",\"Postera\",\"Postera\",\"Postera\",\"Postera\",\"Postera\",\"Postera\",\"Postera\",\"Postera\",\"Postera\",\"Postera\",\"Postera\",\"Postera\",\"Postera\",\"Postera\",\"Postera\",\"Postera\",\"Postera\",\"Postera\",\"Postera\",\"Unknown\"],\"legendgroup\":\"\",\"name\":\"\",\"showlegend\":true,\"type\":\"pie\"}],                        {\"template\":{\"data\":{\"histogram2dcontour\":[{\"type\":\"histogram2dcontour\",\"colorbar\":{\"outlinewidth\":0,\"ticks\":\"\"},\"colorscale\":[[0.0,\"#0d0887\"],[0.1111111111111111,\"#46039f\"],[0.2222222222222222,\"#7201a8\"],[0.3333333333333333,\"#9c179e\"],[0.4444444444444444,\"#bd3786\"],[0.5555555555555556,\"#d8576b\"],[0.6666666666666666,\"#ed7953\"],[0.7777777777777778,\"#fb9f3a\"],[0.8888888888888888,\"#fdca26\"],[1.0,\"#f0f921\"]]}],\"choropleth\":[{\"type\":\"choropleth\",\"colorbar\":{\"outlinewidth\":0,\"ticks\":\"\"}}],\"histogram2d\":[{\"type\":\"histogram2d\",\"colorbar\":{\"outlinewidth\":0,\"ticks\":\"\"},\"colorscale\":[[0.0,\"#0d0887\"],[0.1111111111111111,\"#46039f\"],[0.2222222222222222,\"#7201a8\"],[0.3333333333333333,\"#9c179e\"],[0.4444444444444444,\"#bd3786\"],[0.5555555555555556,\"#d8576b\"],[0.6666666666666666,\"#ed7953\"],[0.7777777777777778,\"#fb9f3a\"],[0.8888888888888888,\"#fdca26\"],[1.0,\"#f0f921\"]]}],\"heatmap\":[{\"type\":\"heatmap\",\"colorbar\":{\"outlinewidth\":0,\"ticks\":\"\"},\"colorscale\":[[0.0,\"#0d0887\"],[0.1111111111111111,\"#46039f\"],[0.2222222222222222,\"#7201a8\"],[0.3333333333333333,\"#9c179e\"],[0.4444444444444444,\"#bd3786\"],[0.5555555555555556,\"#d8576b\"],[0.6666666666666666,\"#ed7953\"],[0.7777777777777778,\"#fb9f3a\"],[0.8888888888888888,\"#fdca26\"],[1.0,\"#f0f921\"]]}],\"heatmapgl\":[{\"type\":\"heatmapgl\",\"colorbar\":{\"outlinewidth\":0,\"ticks\":\"\"},\"colorscale\":[[0.0,\"#0d0887\"],[0.1111111111111111,\"#46039f\"],[0.2222222222222222,\"#7201a8\"],[0.3333333333333333,\"#9c179e\"],[0.4444444444444444,\"#bd3786\"],[0.5555555555555556,\"#d8576b\"],[0.6666666666666666,\"#ed7953\"],[0.7777777777777778,\"#fb9f3a\"],[0.8888888888888888,\"#fdca26\"],[1.0,\"#f0f921\"]]}],\"contourcarpet\":[{\"type\":\"contourcarpet\",\"colorbar\":{\"outlinewidth\":0,\"ticks\":\"\"}}],\"contour\":[{\"type\":\"contour\",\"colorbar\":{\"outlinewidth\":0,\"ticks\":\"\"},\"colorscale\":[[0.0,\"#0d0887\"],[0.1111111111111111,\"#46039f\"],[0.2222222222222222,\"#7201a8\"],[0.3333333333333333,\"#9c179e\"],[0.4444444444444444,\"#bd3786\"],[0.5555555555555556,\"#d8576b\"],[0.6666666666666666,\"#ed7953\"],[0.7777777777777778,\"#fb9f3a\"],[0.8888888888888888,\"#fdca26\"],[1.0,\"#f0f921\"]]}],\"surface\":[{\"type\":\"surface\",\"colorbar\":{\"outlinewidth\":0,\"ticks\":\"\"},\"colorscale\":[[0.0,\"#0d0887\"],[0.1111111111111111,\"#46039f\"],[0.2222222222222222,\"#7201a8\"],[0.3333333333333333,\"#9c179e\"],[0.4444444444444444,\"#bd3786\"],[0.5555555555555556,\"#d8576b\"],[0.6666666666666666,\"#ed7953\"],[0.7777777777777778,\"#fb9f3a\"],[0.8888888888888888,\"#fdca26\"],[1.0,\"#f0f921\"]]}],\"mesh3d\":[{\"type\":\"mesh3d\",\"colorbar\":{\"outlinewidth\":0,\"ticks\":\"\"}}],\"scatter\":[{\"fillpattern\":{\"fillmode\":\"overlay\",\"size\":10,\"solidity\":0.2},\"type\":\"scatter\"}],\"parcoords\":[{\"type\":\"parcoords\",\"line\":{\"colorbar\":{\"outlinewidth\":0,\"ticks\":\"\"}}}],\"scatterpolargl\":[{\"type\":\"scatterpolargl\",\"marker\":{\"colorbar\":{\"outlinewidth\":0,\"ticks\":\"\"}}}],\"bar\":[{\"error_x\":{\"color\":\"#2a3f5f\"},\"error_y\":{\"color\":\"#2a3f5f\"},\"marker\":{\"line\":{\"color\":\"#E5ECF6\",\"width\":0.5},\"pattern\":{\"fillmode\":\"overlay\",\"size\":10,\"solidity\":0.2}},\"type\":\"bar\"}],\"scattergeo\":[{\"type\":\"scattergeo\",\"marker\":{\"colorbar\":{\"outlinewidth\":0,\"ticks\":\"\"}}}],\"scatterpolar\":[{\"type\":\"scatterpolar\",\"marker\":{\"colorbar\":{\"outlinewidth\":0,\"ticks\":\"\"}}}],\"histogram\":[{\"marker\":{\"pattern\":{\"fillmode\":\"overlay\",\"size\":10,\"solidity\":0.2}},\"type\":\"histogram\"}],\"scattergl\":[{\"type\":\"scattergl\",\"marker\":{\"colorbar\":{\"outlinewidth\":0,\"ticks\":\"\"}}}],\"scatter3d\":[{\"type\":\"scatter3d\",\"line\":{\"colorbar\":{\"outlinewidth\":0,\"ticks\":\"\"}},\"marker\":{\"colorbar\":{\"outlinewidth\":0,\"ticks\":\"\"}}}],\"scattermapbox\":[{\"type\":\"scattermapbox\",\"marker\":{\"colorbar\":{\"outlinewidth\":0,\"ticks\":\"\"}}}],\"scatterternary\":[{\"type\":\"scatterternary\",\"marker\":{\"colorbar\":{\"outlinewidth\":0,\"ticks\":\"\"}}}],\"scattercarpet\":[{\"type\":\"scattercarpet\",\"marker\":{\"colorbar\":{\"outlinewidth\":0,\"ticks\":\"\"}}}],\"carpet\":[{\"aaxis\":{\"endlinecolor\":\"#2a3f5f\",\"gridcolor\":\"white\",\"linecolor\":\"white\",\"minorgridcolor\":\"white\",\"startlinecolor\":\"#2a3f5f\"},\"baxis\":{\"endlinecolor\":\"#2a3f5f\",\"gridcolor\":\"white\",\"linecolor\":\"white\",\"minorgridcolor\":\"white\",\"startlinecolor\":\"#2a3f5f\"},\"type\":\"carpet\"}],\"table\":[{\"cells\":{\"fill\":{\"color\":\"#EBF0F8\"},\"line\":{\"color\":\"white\"}},\"header\":{\"fill\":{\"color\":\"#C8D4E3\"},\"line\":{\"color\":\"white\"}},\"type\":\"table\"}],\"barpolar\":[{\"marker\":{\"line\":{\"color\":\"#E5ECF6\",\"width\":0.5},\"pattern\":{\"fillmode\":\"overlay\",\"size\":10,\"solidity\":0.2}},\"type\":\"barpolar\"}],\"pie\":[{\"automargin\":true,\"type\":\"pie\"}]},\"layout\":{\"autotypenumbers\":\"strict\",\"colorway\":[\"#636efa\",\"#EF553B\",\"#00cc96\",\"#ab63fa\",\"#FFA15A\",\"#19d3f3\",\"#FF6692\",\"#B6E880\",\"#FF97FF\",\"#FECB52\"],\"font\":{\"color\":\"#2a3f5f\"},\"hovermode\":\"closest\",\"hoverlabel\":{\"align\":\"left\"},\"paper_bgcolor\":\"white\",\"plot_bgcolor\":\"#E5ECF6\",\"polar\":{\"bgcolor\":\"#E5ECF6\",\"angularaxis\":{\"gridcolor\":\"white\",\"linecolor\":\"white\",\"ticks\":\"\"},\"radialaxis\":{\"gridcolor\":\"white\",\"linecolor\":\"white\",\"ticks\":\"\"}},\"ternary\":{\"bgcolor\":\"#E5ECF6\",\"aaxis\":{\"gridcolor\":\"white\",\"linecolor\":\"white\",\"ticks\":\"\"},\"baxis\":{\"gridcolor\":\"white\",\"linecolor\":\"white\",\"ticks\":\"\"},\"caxis\":{\"gridcolor\":\"white\",\"linecolor\":\"white\",\"ticks\":\"\"}},\"coloraxis\":{\"colorbar\":{\"outlinewidth\":0,\"ticks\":\"\"}},\"colorscale\":{\"sequential\":[[0.0,\"#0d0887\"],[0.1111111111111111,\"#46039f\"],[0.2222222222222222,\"#7201a8\"],[0.3333333333333333,\"#9c179e\"],[0.4444444444444444,\"#bd3786\"],[0.5555555555555556,\"#d8576b\"],[0.6666666666666666,\"#ed7953\"],[0.7777777777777778,\"#fb9f3a\"],[0.8888888888888888,\"#fdca26\"],[1.0,\"#f0f921\"]],\"sequentialminus\":[[0.0,\"#0d0887\"],[0.1111111111111111,\"#46039f\"],[0.2222222222222222,\"#7201a8\"],[0.3333333333333333,\"#9c179e\"],[0.4444444444444444,\"#bd3786\"],[0.5555555555555556,\"#d8576b\"],[0.6666666666666666,\"#ed7953\"],[0.7777777777777778,\"#fb9f3a\"],[0.8888888888888888,\"#fdca26\"],[1.0,\"#f0f921\"]],\"diverging\":[[0,\"#8e0152\"],[0.1,\"#c51b7d\"],[0.2,\"#de77ae\"],[0.3,\"#f1b6da\"],[0.4,\"#fde0ef\"],[0.5,\"#f7f7f7\"],[0.6,\"#e6f5d0\"],[0.7,\"#b8e186\"],[0.8,\"#7fbc41\"],[0.9,\"#4d9221\"],[1,\"#276419\"]]},\"xaxis\":{\"gridcolor\":\"white\",\"linecolor\":\"white\",\"ticks\":\"\",\"title\":{\"standoff\":15},\"zerolinecolor\":\"white\",\"automargin\":true,\"zerolinewidth\":2},\"yaxis\":{\"gridcolor\":\"white\",\"linecolor\":\"white\",\"ticks\":\"\",\"title\":{\"standoff\":15},\"zerolinecolor\":\"white\",\"automargin\":true,\"zerolinewidth\":2},\"scene\":{\"xaxis\":{\"backgroundcolor\":\"#E5ECF6\",\"gridcolor\":\"white\",\"linecolor\":\"white\",\"showbackground\":true,\"ticks\":\"\",\"zerolinecolor\":\"white\",\"gridwidth\":2},\"yaxis\":{\"backgroundcolor\":\"#E5ECF6\",\"gridcolor\":\"white\",\"linecolor\":\"white\",\"showbackground\":true,\"ticks\":\"\",\"zerolinecolor\":\"white\",\"gridwidth\":2},\"zaxis\":{\"backgroundcolor\":\"#E5ECF6\",\"gridcolor\":\"white\",\"linecolor\":\"white\",\"showbackground\":true,\"ticks\":\"\",\"zerolinecolor\":\"white\",\"gridwidth\":2}},\"shapedefaults\":{\"line\":{\"color\":\"#2a3f5f\"}},\"annotationdefaults\":{\"arrowcolor\":\"#2a3f5f\",\"arrowhead\":0,\"arrowwidth\":1},\"geo\":{\"bgcolor\":\"white\",\"landcolor\":\"#E5ECF6\",\"subunitcolor\":\"white\",\"showland\":true,\"showlakes\":true,\"lakecolor\":\"white\"},\"title\":{\"x\":0.05},\"mapbox\":{\"style\":\"light\"}}},\"legend\":{\"tracegroupgap\":0},\"title\":{\"text\":\"Bound Fragments\"}},                        {\"responsive\": true}                    ).then(function(){\n",
       "                            \n",
       "var gd = document.getElementById('99dd83d5-c0c1-4b63-a44c-2f114dffeb40');\n",
       "var x = new MutationObserver(function (mutations, observer) {{\n",
       "        var display = window.getComputedStyle(gd).display;\n",
       "        if (!display || display === 'none') {{\n",
       "            console.log([gd, 'removed!']);\n",
       "            Plotly.purge(gd);\n",
       "            observer.disconnect();\n",
       "        }}\n",
       "}});\n",
       "\n",
       "// Listen for the removal of the full notebook cells\n",
       "var notebookContainer = gd.closest('#notebook-container');\n",
       "if (notebookContainer) {{\n",
       "    x.observe(notebookContainer, {childList: true});\n",
       "}}\n",
       "\n",
       "// Listen for the clearing of the current output cell\n",
       "var outputEl = gd.closest('.output');\n",
       "if (outputEl) {{\n",
       "    x.observe(outputEl, {childList: true});\n",
       "}}\n",
       "\n",
       "                        })                };                });            </script>        </div>"
      ]
     },
     "metadata": {},
     "output_type": "display_data"
    }
   ],
   "source": [
    "import plotly.express as px\n",
    "\n",
    "px.pie(merged.drop_duplicates('crystal_name'), 'group', title='Bound Fragments')"
   ]
  },
  {
   "cell_type": "code",
   "execution_count": 339,
   "id": "a52b6a96-8615-4fe9-96c7-e7c74d7357e1",
   "metadata": {},
   "outputs": [
    {
     "data": {
      "text/html": [
       "<div>\n",
       "<style scoped>\n",
       "    .dataframe tbody tr th:only-of-type {\n",
       "        vertical-align: middle;\n",
       "    }\n",
       "\n",
       "    .dataframe tbody tr th {\n",
       "        vertical-align: top;\n",
       "    }\n",
       "\n",
       "    .dataframe thead th {\n",
       "        text-align: right;\n",
       "    }\n",
       "</style>\n",
       "<table border=\"1\" class=\"dataframe\">\n",
       "  <thead>\n",
       "    <tr style=\"text-align: right;\">\n",
       "      <th></th>\n",
       "      <th>Unnamed: 0</th>\n",
       "      <th>crystal_name</th>\n",
       "      <th>RealCrystalName</th>\n",
       "      <th>smiles_x</th>\n",
       "      <th>new_smiles</th>\n",
       "      <th>alternate_name</th>\n",
       "      <th>site_name</th>\n",
       "      <th>pdb_entry</th>\n",
       "      <th>name</th>\n",
       "      <th>simple_inchi</th>\n",
       "      <th>...</th>\n",
       "      <th>mcule_postera.1</th>\n",
       "      <th>molport_postera.1</th>\n",
       "      <th>pubchem_postera.1</th>\n",
       "      <th>sigma_postera.1</th>\n",
       "      <th>surechembl_postera.1</th>\n",
       "      <th>wuxi_postera.1</th>\n",
       "      <th>reg_id_postera</th>\n",
       "      <th>vc_id_postera</th>\n",
       "      <th>is_XChem</th>\n",
       "      <th>group</th>\n",
       "    </tr>\n",
       "  </thead>\n",
       "  <tbody>\n",
       "    <tr>\n",
       "      <th>625</th>\n",
       "      <td>180</td>\n",
       "      <td>D68EV3CPROA-x2737_0A</td>\n",
       "      <td>D68EV3CPROA-x2737</td>\n",
       "      <td>CCC(=O)N(c1ccc(F)c(C(F)(F)F)n1)[C@H]3Cc2ccccc2...</td>\n",
       "      <td>CCC(=O)N(c1ccc(F)c(C(F)(F)F)n1)[C@H]3Cc2ccccc2...</td>\n",
       "      <td>ASAP-0014865-001</td>\n",
       "      <td>follow-up</td>\n",
       "      <td>NaN</td>\n",
       "      <td>x2737</td>\n",
       "      <td>InChI=1S/C18H15F4N3O2/c1-2-15(26)25(14-8-7-11(...</td>\n",
       "      <td>...</td>\n",
       "      <td>NaN</td>\n",
       "      <td>NaN</td>\n",
       "      <td>NaN</td>\n",
       "      <td>NaN</td>\n",
       "      <td>NaN</td>\n",
       "      <td>NaN</td>\n",
       "      <td>NaN</td>\n",
       "      <td>NaN</td>\n",
       "      <td>NaN</td>\n",
       "      <td>Unknown</td>\n",
       "    </tr>\n",
       "  </tbody>\n",
       "</table>\n",
       "<p>1 rows × 449 columns</p>\n",
       "</div>"
      ],
      "text/plain": [
       "     Unnamed: 0          crystal_name    RealCrystalName  \\\n",
       "625         180  D68EV3CPROA-x2737_0A  D68EV3CPROA-x2737   \n",
       "\n",
       "                                              smiles_x  \\\n",
       "625  CCC(=O)N(c1ccc(F)c(C(F)(F)F)n1)[C@H]3Cc2ccccc2...   \n",
       "\n",
       "                                            new_smiles    alternate_name  \\\n",
       "625  CCC(=O)N(c1ccc(F)c(C(F)(F)F)n1)[C@H]3Cc2ccccc2...  ASAP-0014865-001   \n",
       "\n",
       "     site_name  pdb_entry   name  \\\n",
       "625  follow-up        NaN  x2737   \n",
       "\n",
       "                                          simple_inchi  ... mcule_postera.1  \\\n",
       "625  InChI=1S/C18H15F4N3O2/c1-2-15(26)25(14-8-7-11(...  ...             NaN   \n",
       "\n",
       "    molport_postera.1 pubchem_postera.1 sigma_postera.1 surechembl_postera.1  \\\n",
       "625               NaN               NaN             NaN                  NaN   \n",
       "\n",
       "    wuxi_postera.1 reg_id_postera  vc_id_postera is_XChem    group  \n",
       "625            NaN            NaN            NaN      NaN  Unknown  \n",
       "\n",
       "[1 rows x 449 columns]"
      ]
     },
     "execution_count": 339,
     "metadata": {},
     "output_type": "execute_result"
    }
   ],
   "source": [
    "merged.loc[merged.group == 'Unknown']"
   ]
  },
  {
   "cell_type": "code",
   "execution_count": null,
   "id": "157a3b40-1df1-480c-9965-ebc90a56ca81",
   "metadata": {},
   "outputs": [],
   "source": []
  }
 ],
 "metadata": {
  "kernelspec": {
   "display_name": "Python [conda env:py310]",
   "language": "python",
   "name": "conda-env-py310-py"
  },
  "language_info": {
   "codemirror_mode": {
    "name": "ipython",
    "version": 3
   },
   "file_extension": ".py",
   "mimetype": "text/x-python",
   "name": "python",
   "nbconvert_exporter": "python",
   "pygments_lexer": "ipython3",
   "version": "3.10.10"
  }
 },
 "nbformat": 4,
 "nbformat_minor": 5
}
